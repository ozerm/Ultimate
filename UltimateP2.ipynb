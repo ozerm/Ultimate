{
 "cells": [
  {
   "cell_type": "markdown",
   "metadata": {},
   "source": [
    "Part 2 ‑ Experiment and metrics design\n",
    "The neighboring cities of Gotham and Metropolis have complementary circadian rhythms: on\n",
    "weekdays, Ultimate Gotham is most active at night, and Ultimate Metropolis is most active\n",
    "during the day. On weekends, there is reasonable activity in both cities.\n",
    "However, a toll bridge, with a two way\n",
    "toll, between the two cities causes driver partners to tend\n",
    "to be exclusive to each city. The Ultimate managers of city operations for the two cities have\n",
    "proposed an experiment to encourage driver partners to be available in both cities, by\n",
    "reimbursing all toll costs.\n",
    "1. What would you choose as the key measure of success of this experiment in\n",
    "encouraging driver partners to serve both cities, and why would you choose this metric?\n",
    "2. Describe a practical experiment you would design to compare the effectiveness of the\n",
    "proposed change in relation to the key measure of success. Please provide details on:\n",
    "a. how you will implement the experiment\n",
    "b. what statistical test(s) you will conduct to verify the significance of the\n",
    "observation\n",
    "c. how you would interpret the results and provide recommendations to the city\n",
    "operations team along with any caveats."
   ]
  },
  {
   "cell_type": "markdown",
   "metadata": {},
   "source": [
    "### In this research project we will be doing an hyptheses testing. The key measure of this study will be the number of active drivers in both cities Gotham and Metropolis. A/B test for practical results might be one of the best options here. A/B testing is usually used for user experience research. We will divide the sample into two halves randomly. The first half will be given toll free cards and the other half would not be given a such opportunuty. In this case the first group is considered as experimental group and the second would be test group. \n",
    "\n",
    "### This method utilizes how to conduct a hypothesis test to determine whether the difference between two proportions is significant. The assumptions for this method are listed below. The assumptions are the factors that the study will need to meet.\n",
    "\n",
    "#### - The sampling method for each population is simple random sampling.\n",
    "#### - The samples are independent.\n",
    "#### - Each sample includes at least 10 successes and 10 failures.\n",
    "#### - Each population is at least 20 times as big as its sample.\n",
    "\n",
    "### The null hypothesis for this study would be \"There is no significant difference among the groups of drivers who are given toll free and who pays for toll.\"\n",
    "### We will be using the signifacance level of 0.05 for this study.  We will be using the two-proportion z-test to determine whether the hypothesized difference between population proportions differs significantly from the observed sample difference.\n",
    "\n",
    "### We will be rejecting the null hypothesis if the p-value is  less than 0.05 and conclude with there is significant difference in between the two groups. Recommendations will be made to the company based on the results.\n"
   ]
  },
  {
   "cell_type": "code",
   "execution_count": null,
   "metadata": {},
   "outputs": [],
   "source": []
  }
 ],
 "metadata": {
  "kernelspec": {
   "display_name": "Python 3",
   "language": "python",
   "name": "python3"
  },
  "language_info": {
   "codemirror_mode": {
    "name": "ipython",
    "version": 3
   },
   "file_extension": ".py",
   "mimetype": "text/x-python",
   "name": "python",
   "nbconvert_exporter": "python",
   "pygments_lexer": "ipython3",
   "version": "3.8.3"
  }
 },
 "nbformat": 4,
 "nbformat_minor": 4
}
